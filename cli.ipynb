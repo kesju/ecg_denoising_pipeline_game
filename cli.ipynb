{
 "cells": [
  {
   "cell_type": "markdown",
   "id": "6fc8a349",
   "metadata": {},
   "source": [
    "# ECG Denoising Pipeline Demo\n",
    "Run the pipeline on the bundled example data."
   ]
  },
  {
   "cell_type": "code",
   "execution_count": null,
   "id": "39bc60a6",
   "metadata": {},
   "outputs": [],
   "source": [
    "from pathlib import Path\n",
    "import json\n",
    "import numpy as np\n",
    "from ecg_pipeline import PipelineConfig, load_config_yaml, ECGDenoisingPipeline, plot_signal_with_spans\n",
    "\n",
    "root = Path('.')\n",
    "ecg_path = root/'example_data'/'ecg_orig.npy'\n",
    "gaps_path = root/'example_data'/'gaps_indices.json'\n",
    "cfg_path = root/'example_data'/'pipeline_config.yaml'\n",
    "\n",
    "cfg = load_config_yaml(str(cfg_path))\n",
    "x = np.load(ecg_path)\n",
    "gaps = json.loads(Path(gaps_path).read_text())\n",
    "\n",
    "pipe = ECGDenoisingPipeline(cfg)\n",
    "res = pipe.run(x, gaps)\n",
    "print({'len_original':len(res.ecg_orig), 'len_start':len(res.ecg_start), 'len_final':len(res.ecg_final)})\n"
   ]
  },
  {
   "cell_type": "code",
   "execution_count": null,
   "id": "c7759033",
   "metadata": {},
   "outputs": [],
   "source": [
    "plot_signal_with_spans(\n",
    "    res.ecg_orig,\n",
    "    {\n",
    "        'gaps': res.projected_to_orig['gaps'],\n",
    "        'outliers': res.projected_to_orig['outliers'],\n",
    "        'rdropouts': res.projected_to_orig['rdropouts'],\n",
    "        'motions': res.projected_to_orig['motions'],\n",
    "    },\n",
    "    cfg.fs,\n",
    "    title='ECG Original with projected noisy segments',\n",
    "    show=True,\n",
    ")\n"
   ]
  },
  {
   "cell_type": "code",
   "execution_count": null,
   "id": "a986f145",
   "metadata": {},
   "outputs": [],
   "source": [
    "plot_signal_with_spans(\n",
    "    res.ecg_start,\n",
    "    {\n",
    "        'outliers': res.projected_to_start['outliers'],\n",
    "        'rdropouts': res.projected_to_start['rdropouts'],\n",
    "        'motions': res.projected_to_start['motions'],\n",
    "    },\n",
    "    cfg.fs,\n",
    "    title='ECG Start with noisy segments',\n",
    "    show=True,\n",
    ")\n"
   ]
  }
 ],
 "metadata": {},
 "nbformat": 4,
 "nbformat_minor": 5
}
